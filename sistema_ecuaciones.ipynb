{
  "nbformat": 4,
  "nbformat_minor": 0,
  "metadata": {
    "colab": {
      "provenance": [],
      "authorship_tag": "ABX9TyNik/QlETYHgBM0RSBUg4Cr",
      "include_colab_link": true
    },
    "kernelspec": {
      "name": "python3",
      "display_name": "Python 3"
    },
    "language_info": {
      "name": "python"
    }
  },
  "cells": [
    {
      "cell_type": "markdown",
      "metadata": {
        "id": "view-in-github",
        "colab_type": "text"
      },
      "source": [
        "<a href=\"https://colab.research.google.com/github/gertz7/GERARDO_TAREAS/blob/main/sistema_ecuaciones.ipynb\" target=\"_parent\"><img src=\"https://colab.research.google.com/assets/colab-badge.svg\" alt=\"Open In Colab\"/></a>"
      ]
    },
    {
      "cell_type": "code",
      "execution_count": null,
      "metadata": {
        "id": "2tcH-Qxt5-eD"
      },
      "outputs": [],
      "source": []
    },
    {
      "cell_type": "markdown",
      "source": [
        "Division de numeros complejos"
      ],
      "metadata": {
        "id": "eRa1-ojJ5_ZR"
      }
    },
    {
      "cell_type": "code",
      "source": [
        "\n",
        "import numpy as np\n",
        "from scipy.linalg import solve\n",
        "\n",
        "z1 = complex(input('Da un número complejo: ')) # a+bj\n",
        "z2 = complex(input('Dame otro número complejo: ')) # c+dj\n",
        "print('z1= ',z1)\n",
        "print('z2= ',z2)\n",
        "#Haciendo la operacion directa de division : z1/z2\n",
        "print('z1/z2 = ',z1/z2)\n",
        "#Haciendo la division de los complejos, resolviendo el sistema de ecuaciones: (a+bj)/(c+dj)= r + sj\n",
        "A=np.array([[z2.real,-z2.imag],[z2.imag,z2.real]])\n",
        "B=np.array([z1.real,z1.imag])\n",
        "x=solve(A,B)\n",
        "print('La división de los complejos ', '(',z1,') / (',z2, ')= ',x)\n"
      ],
      "metadata": {
        "colab": {
          "base_uri": "https://localhost:8080/"
        },
        "id": "7fsVyMmS6GWB",
        "outputId": "85996373-3aba-497a-fd7d-32ebab48254b"
      },
      "execution_count": 10,
      "outputs": [
        {
          "output_type": "stream",
          "name": "stdout",
          "text": [
            "Da un número complejo: 8+4j\n",
            "Dame otro número complejo: 5-3j\n",
            "z1=  (8+4j)\n",
            "z2=  (5-3j)\n",
            "z1/z2 =  (0.8235294117647058+1.2941176470588236j)\n",
            "La división de los complejos  ( (8+4j) ) / ( (5-3j) )=  [0.82352941 1.29411765]\n"
          ]
        }
      ]
    }
  ]
}