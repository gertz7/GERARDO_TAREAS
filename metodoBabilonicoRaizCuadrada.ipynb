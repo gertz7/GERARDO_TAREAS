{
  "nbformat": 4,
  "nbformat_minor": 0,
  "metadata": {
    "colab": {
      "provenance": [],
      "authorship_tag": "ABX9TyMx+BwCeoYvp0VR1d4bHtwe",
      "include_colab_link": true
    },
    "kernelspec": {
      "name": "python3",
      "display_name": "Python 3"
    },
    "language_info": {
      "name": "python"
    }
  },
  "cells": [
    {
      "cell_type": "markdown",
      "metadata": {
        "id": "view-in-github",
        "colab_type": "text"
      },
      "source": [
        "<a href=\"https://colab.research.google.com/github/gertz7/GERARDO_TAREAS/blob/main/metodoBabilonicoRaizCuadrada.ipynb\" target=\"_parent\"><img src=\"https://colab.research.google.com/assets/colab-badge.svg\" alt=\"Open In Colab\"/></a>"
      ]
    },
    {
      "cell_type": "code",
      "execution_count": 4,
      "metadata": {
        "colab": {
          "base_uri": "https://localhost:8080/"
        },
        "id": "iCc6spWCse4J",
        "outputId": "a7c95780-1997-4e0c-fd8f-a5cfdf935a2a"
      },
      "outputs": [
        {
          "output_type": "stream",
          "name": "stdout",
          "text": [
            "Dame el valor del cual quieres la raíz: 534\n",
            "Da una aproximación: 20\n",
            "error =.000000001\n",
            "despues de  4 iteraciones  para un error de :  1e-09\n",
            "La raíz aproximada de 534.0 es 23.10844001658268354049141635186970233917236328125\n",
            "La raíz de 534.0 es 23.10844001658268709320509515237063169479370117188 \n"
          ]
        }
      ],
      "source": [
        "import numpy as np\n",
        "import math\n",
        "\n",
        "raiz = float(input(\"Dame el valor del cual quieres la raíz: \"))\n",
        "aprox = float(input(\"Da una aproximación: \"))\n",
        "e=float(input(\"error =\"))\n",
        "\n",
        "cont =0\n",
        "\n",
        "#for x in range(5):\n",
        "error=math.fabs(np.sqrt(raiz)-aprox)\n",
        "while error > e:\n",
        "    cont=cont+1\n",
        "    aprox = .5*(aprox + raiz/aprox)\n",
        "    error=math.fabs(np.sqrt(raiz)-aprox)\n",
        "\n",
        "print(\"despues de \", cont, \"iteraciones \", \"para un error de : \" ,e)\n",
        "print(\"La raíz aproximada de {0} es {1:50.49}\"\n",
        "         .format(raiz, aprox))\n",
        "\n",
        "print(\"La raíz de {0} es {1:50.49} \".format(raiz, np.sqrt(raiz)))"
      ]
    }
  ]
}