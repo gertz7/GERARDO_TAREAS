{
  "nbformat": 4,
  "nbformat_minor": 0,
  "metadata": {
    "colab": {
      "provenance": [],
      "authorship_tag": "ABX9TyPZOA2NudD3HR23yUoY2djA",
      "include_colab_link": true
    },
    "kernelspec": {
      "name": "python3",
      "display_name": "Python 3"
    },
    "language_info": {
      "name": "python"
    }
  },
  "cells": [
    {
      "cell_type": "markdown",
      "metadata": {
        "id": "view-in-github",
        "colab_type": "text"
      },
      "source": [
        "<a href=\"https://colab.research.google.com/github/gertz7/GERARDO_TAREAS/blob/main/mcd_Euclides.ipynb\" target=\"_parent\"><img src=\"https://colab.research.google.com/assets/colab-badge.svg\" alt=\"Open In Colab\"/></a>"
      ]
    },
    {
      "cell_type": "code",
      "execution_count": 6,
      "metadata": {
        "colab": {
          "base_uri": "https://localhost:8080/"
        },
        "id": "kzqmui-YqPn3",
        "outputId": "3e06ab2a-75c8-423c-ce33-78552075850d"
      },
      "outputs": [
        {
          "output_type": "stream",
          "name": "stdout",
          "text": [
            "numero 1 =-35300\n",
            "numero 2 =1450\n",
            "El maximo comun divisor de  1450  y  -35300  es :  50\n"
          ]
        }
      ],
      "source": [
        "a=int(input('numero 1 ='))\n",
        "b=int(input('numero 2 ='))\n",
        "\n",
        "\n",
        "if b > a :\n",
        "  c=a\n",
        "  a=b\n",
        "  b=c\n",
        "\n",
        "num1=a\n",
        "num2=b\n",
        "\n",
        "q=a//b\n",
        "#print(\"q=\",q)\n",
        "\n",
        "r=a-b*q\n",
        "\n",
        "#print(\"r=\",r)\n",
        "while r !=0 :\n",
        "  a=b\n",
        "  b=r\n",
        "  #print(a,b)\n",
        "  q=a//b\n",
        "  #print(\"q=\",q)\n",
        "  r=a-b*q\n",
        "  #print(\"b=\",b)\n",
        "  #print(\"r=\",r)\n",
        "\n",
        "if b<0 :\n",
        "  b=b*(-1)\n",
        "print(\"El maximo comun divisor de \", num1 , \" y \", num2 , \" es : \", b)"
      ]
    }
  ]
}