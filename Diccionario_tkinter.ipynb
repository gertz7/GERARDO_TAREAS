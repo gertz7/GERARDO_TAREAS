{
  "nbformat": 4,
  "nbformat_minor": 0,
  "metadata": {
    "colab": {
      "provenance": [],
      "authorship_tag": "ABX9TyPL79ngLzE8gjA2wCD0aFDM",
      "include_colab_link": true
    },
    "kernelspec": {
      "name": "python3",
      "display_name": "Python 3"
    },
    "language_info": {
      "name": "python"
    }
  },
  "cells": [
    {
      "cell_type": "markdown",
      "metadata": {
        "id": "view-in-github",
        "colab_type": "text"
      },
      "source": [
        "<a href=\"https://colab.research.google.com/github/gertz7/GERARDO_TAREAS/blob/main/Diccionario_tkinter.ipynb\" target=\"_parent\"><img src=\"https://colab.research.google.com/assets/colab-badge.svg\" alt=\"Open In Colab\"/></a>"
      ]
    },
    {
      "cell_type": "code",
      "execution_count": null,
      "metadata": {
        "id": "KzzenDu46KeD"
      },
      "outputs": [],
      "source": [
        "\n",
        "\n",
        "\n",
        "from tkinter import Tk, Label, Entry\n",
        "\n",
        "\n",
        "# Diccionario\n",
        "calificaciones = {'Saul' : 8.3 , 'Greta' : 9.5 ,\n",
        "                  'Alex' : 7.8, 'Oscar' : 6.9, 'José' : 9.2}\n",
        "\n",
        "\n",
        "# Creo la ventana\n",
        "ventana = Tk()\n",
        "ventana.title(\"Calificación\")\n",
        "ventana.eval('tk::PlaceWindow . center')\n",
        "\n",
        "#Creo los elementos a poner en la ventana\n",
        "texto = Label(ventana,  font=('Helvetica 15 bold'), text = '¿Cuál es tu nombre?')\n",
        "entrada = Entry(ventana, font=('Helvetica 15 bold'),background='#ffa533', width=30)\n",
        "score = Label(ventana,font=('Helvetica 15 bold'),text='')\n",
        "\n",
        "\n",
        "# Pongo los elementos en la ventana\n",
        "texto.pack(side = 'left', padx=(20,5), pady=10)\n",
        "entrada.pack(side='left', padx=(2,20), pady=10)\n",
        "score.pack(side='bottom', padx= (0,10),pady=(100,5))\n",
        "\n",
        "# Toma el dato de la entrada después de dar enter\n",
        "# e imprime el nombre en consola\n",
        "def mi_entrada(event):\n",
        "    nombre = entrada.get()\n",
        "    resultado = calificaciones.get(nombre, -1)\n",
        "    if resultado != -1:\n",
        "        score.configure(text = 'Tu calificación es: '+ str(resultado))\n",
        "    else:\n",
        "        score.configure(text = 'Ingresa un nombre que esté en la lista')\n",
        "\n",
        "# Enlaza el recuadro de entrada con dar Return\n",
        "entrada.bind('<Return>', mi_entrada)\n",
        "\n",
        "ventana.mainloop()"
      ]
    }
  ]
}