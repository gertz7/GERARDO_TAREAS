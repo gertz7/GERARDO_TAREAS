{
  "nbformat": 4,
  "nbformat_minor": 0,
  "metadata": {
    "colab": {
      "provenance": [],
      "authorship_tag": "ABX9TyOFCbpWCRkZgvuVJgx7ktqr",
      "include_colab_link": true
    },
    "kernelspec": {
      "name": "python3",
      "display_name": "Python 3"
    },
    "language_info": {
      "name": "python"
    }
  },
  "cells": [
    {
      "cell_type": "markdown",
      "metadata": {
        "id": "view-in-github",
        "colab_type": "text"
      },
      "source": [
        "<a href=\"https://colab.research.google.com/github/gertz7/GERARDO_TAREAS/blob/main/propiedadConmutativaVectores.ipynb\" target=\"_parent\"><img src=\"https://colab.research.google.com/assets/colab-badge.svg\" alt=\"Open In Colab\"/></a>"
      ]
    },
    {
      "cell_type": "code",
      "execution_count": 2,
      "metadata": {
        "colab": {
          "base_uri": "https://localhost:8080/"
        },
        "id": "tZ55Kej-nv5M",
        "outputId": "4881e551-f545-431b-86e3-2f739a051b3f"
      },
      "outputs": [
        {
          "output_type": "stream",
          "name": "stdout",
          "text": [
            "ingrese el primer vector:\n",
            "ingrese el valor 1: 7\n",
            "ingrese el valor 2: 15\n",
            "\n",
            "ingrese el segundo vector:\n",
            "ingrese el valor 1: -6\n",
            "ingrese el valor 2: 5\n",
            "\n",
            "Primer valor ingresado, VECTOR A:  [7.0, 15.0]\n",
            "\n",
            "Segundo valor ingresado, VECTOR B:  [-6.0, 5.0]\n",
            "\n",
            "Resultado de la suma de los dos vectores A + B :   [1.0, 20.0]\n",
            "\n",
            "Resultado de la suma de los vectores B + A  :   [1.0, 20.0]\n"
          ]
        }
      ],
      "source": [
        "#Propiedad conmutativa en la suma de dos vectores\n",
        "\n",
        "import matplotlib.pyplot as plt\n",
        "\n",
        "\n",
        "def ingresar_vector(n):\n",
        "    vector = [float(input(f\"ingrese el valor {i+1}: \"))\n",
        "    for i in range(n)]\n",
        "    return vector\n",
        "\n",
        "def sumar_de_vectores(vector1, vector2):\n",
        "    return [vector1 + vector2 for vector1, vector2 in zip (vector1, vector2)]\n",
        "\n",
        "print (\"ingrese el primer vector:\")\n",
        "vectorA = ingresar_vector(2)\n",
        "\n",
        "print (\"\\ningrese el segundo vector:\")\n",
        "vectorB = ingresar_vector(2)\n",
        "\n",
        "vector_resultado=sumar_de_vectores(vectorA, vectorB)\n",
        "\n",
        "\n",
        "print (\"\\nPrimer valor ingresado, VECTOR A: \", vectorA)\n",
        "print (\"\\nSegundo valor ingresado, VECTOR B: \", vectorB)\n",
        "print (\"\\nResultado de la suma de los dos vectores A + B :  \", vector_resultado)\n",
        "vector_resultado=sumar_de_vectores(vectorB, vectorA)\n",
        "print(\"\\nResultado de la suma de los vectores B + A  :  \",vector_resultado)\n",
        "\n",
        "\n",
        "\n"
      ]
    }
  ]
}