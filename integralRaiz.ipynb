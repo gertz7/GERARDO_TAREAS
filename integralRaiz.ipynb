{
  "nbformat": 4,
  "nbformat_minor": 0,
  "metadata": {
    "colab": {
      "provenance": [],
      "authorship_tag": "ABX9TyOxoStR1iQ4Xo2sc1tavRSn",
      "include_colab_link": true
    },
    "kernelspec": {
      "name": "python3",
      "display_name": "Python 3"
    },
    "language_info": {
      "name": "python"
    }
  },
  "cells": [
    {
      "cell_type": "markdown",
      "metadata": {
        "id": "view-in-github",
        "colab_type": "text"
      },
      "source": [
        "<a href=\"https://colab.research.google.com/github/gertz7/GERARDO_TAREAS/blob/main/integralRaiz.ipynb\" target=\"_parent\"><img src=\"https://colab.research.google.com/assets/colab-badge.svg\" alt=\"Open In Colab\"/></a>"
      ]
    },
    {
      "cell_type": "code",
      "execution_count": null,
      "metadata": {
        "id": "q2P87Nqn1YPk"
      },
      "outputs": [],
      "source": []
    },
    {
      "cell_type": "markdown",
      "source": [
        "![image.png](data:image/png;base64,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)"
      ],
      "metadata": {
        "id": "n0-sHJtA1ZNy"
      }
    },
    {
      "cell_type": "code",
      "source": [
        "from sympy import symbols, Integral, sqrt\n",
        "\n",
        "x  = symbols('x')\n",
        "intraiz = Integral(sqrt(1+x**3), (x,-1,1))\n",
        "print(\"El resultado es: \", intraiz.evalf())"
      ],
      "metadata": {
        "colab": {
          "base_uri": "https://localhost:8080/"
        },
        "id": "rQrsVt291gfC",
        "outputId": "b76d5b68-3093-4725-d69a-ed397b0a3389"
      },
      "execution_count": 3,
      "outputs": [
        {
          "output_type": "stream",
          "name": "stdout",
          "text": [
            "El resultado es:  1.95275723372785\n"
          ]
        }
      ]
    }
  ]
}