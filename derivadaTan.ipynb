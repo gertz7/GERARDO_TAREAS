{
  "nbformat": 4,
  "nbformat_minor": 0,
  "metadata": {
    "colab": {
      "provenance": [],
      "authorship_tag": "ABX9TyMFYz9fEPLPA5qCT38TPdlW",
      "include_colab_link": true
    },
    "kernelspec": {
      "name": "python3",
      "display_name": "Python 3"
    },
    "language_info": {
      "name": "python"
    }
  },
  "cells": [
    {
      "cell_type": "markdown",
      "metadata": {
        "id": "view-in-github",
        "colab_type": "text"
      },
      "source": [
        "<a href=\"https://colab.research.google.com/github/gertz7/GERARDO_TAREAS/blob/main/derivadaTan.ipynb\" target=\"_parent\"><img src=\"https://colab.research.google.com/assets/colab-badge.svg\" alt=\"Open In Colab\"/></a>"
      ]
    },
    {
      "cell_type": "markdown",
      "source": [
        "![image.png](data:image/png;base64,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)"
      ],
      "metadata": {
        "id": "0-qsplQSyIwi"
      }
    },
    {
      "cell_type": "code",
      "execution_count": 2,
      "metadata": {
        "colab": {
          "base_uri": "https://localhost:8080/",
          "height": 83
        },
        "id": "Ui87wQWQyHKG",
        "outputId": "03f87552-ca9a-42e9-99b1-1c7f55490a91"
      },
      "outputs": [
        {
          "output_type": "execute_result",
          "data": {
            "text/plain": [
              "(sqrt(x)*(exp(2*sin(x))*cos(x)/(2*x) - exp(2*sin(x))/(4*x**2))*(tan(exp(2*sin(x))/(4*x))**2 + 1)/tan(exp(2*sin(x))/(4*x)) + log(tan(exp(2*sin(x))/(4*x)))/(2*sqrt(x)))*tan(exp(2*sin(x))/(4*x))**(sqrt(x))"
            ],
            "text/latex": "$\\displaystyle \\left(\\frac{\\sqrt{x} \\left(\\frac{e^{2 \\sin{\\left(x \\right)}} \\cos{\\left(x \\right)}}{2 x} - \\frac{e^{2 \\sin{\\left(x \\right)}}}{4 x^{2}}\\right) \\left(\\tan^{2}{\\left(\\frac{e^{2 \\sin{\\left(x \\right)}}}{4 x} \\right)} + 1\\right)}{\\tan{\\left(\\frac{e^{2 \\sin{\\left(x \\right)}}}{4 x} \\right)}} + \\frac{\\log{\\left(\\tan{\\left(\\frac{e^{2 \\sin{\\left(x \\right)}}}{4 x} \\right)} \\right)}}{2 \\sqrt{x}}\\right) \\tan^{\\sqrt{x}}{\\left(\\frac{e^{2 \\sin{\\left(x \\right)}}}{4 x} \\right)}$"
          },
          "metadata": {},
          "execution_count": 2
        }
      ],
      "source": [
        "from sympy import symbols, diff,sin,limit, sqrt,exp,tan\n",
        "x  = symbols('x')\n",
        "fx =tan(exp(2*sin(x))/(4*x))**sqrt(x)\n",
        "\n",
        "#dx = diff(fx, x)\n",
        "\n",
        "\n",
        "diff(fx,x)"
      ]
    }
  ]
}