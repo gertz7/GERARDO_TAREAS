{
  "nbformat": 4,
  "nbformat_minor": 0,
  "metadata": {
    "colab": {
      "provenance": [],
      "authorship_tag": "ABX9TyOTk7D8eyxAXxx6dcDPTt5X",
      "include_colab_link": true
    },
    "kernelspec": {
      "name": "python3",
      "display_name": "Python 3"
    },
    "language_info": {
      "name": "python"
    }
  },
  "cells": [
    {
      "cell_type": "markdown",
      "metadata": {
        "id": "view-in-github",
        "colab_type": "text"
      },
      "source": [
        "<a href=\"https://colab.research.google.com/github/gertz7/GERARDO_TAREAS/blob/main/limiteFuncion.ipynb\" target=\"_parent\"><img src=\"https://colab.research.google.com/assets/colab-badge.svg\" alt=\"Open In Colab\"/></a>"
      ]
    },
    {
      "cell_type": "markdown",
      "source": [
        "Determinar el límite de la función:"
      ],
      "metadata": {
        "id": "nWoIwiEbsgua"
      }
    },
    {
      "cell_type": "markdown",
      "source": [
        "Limites![image.png](data:image/png;base64,iVBORw0KGgoAAAANSUhEUgAAANEAAABeCAIAAAAyvma1AAAFTUlEQVR4Ae2Y23IjIQxE8+Af8f9/pLcqbLpUgoEe0MiM3fuQ1UDrQnPiS35e+icHch34yW2nbnLgJeYEQbYDYi7bcfUTc2Ig2wExl+24+ok5MZDtgJjLdlz9xJwYyHZAzGU7rn5iTgxkOyDmsh1XPzEnBrIdEHPZjqufmBMD2Q6IuWzH1U/MiYFsB8RctuPqJ+aWGHj+/Vuq8mXJYm7+wp/PJ5JtjEUFTQfEXNMWarG8xhWpmKMs+xWJOd6rnjKcufCCvelz98RcgN9X8HFFzYCjRpQQc6suXgGHfddenW+/fDG3dCcADsFSud/kUiqw4PpIsRXEHOUnXngsCn9/J/n/P1VoJEJ9BKOM++2LufGd4foB2ThnVmF7zdbYPU/MDW5oBQIw2gzqxuj1er1sXCtvvSLm2OtLgKBGkx3uVjoxx14XmEPAZk7pcrpMjbaaJOYGDtrXnsy3PDE3uJhyGZ9qUzlXgW9sxLLCUb5cb7sCka9zYC7terazUwMRDlzCXOZ7EHFGSfZy4Crm9jqlptnJATG30218xyyXMGc/zyFG8NlfOL4Dm6VTXsKc+zx3RBu+cyydQMl3cyCJOdhiObMxBCUomOrnPg64C1p53JS5lSMpd3MHxNzmF/SB44m5D7zUzY8Uxhw+eeBrafm4xqxv7tFF4xVnLiq+c9kw5t51SDCdE0QdE9+fEJyq/Hg8cs57xS/GvZmbu7BTt3uRGJMj4BtNpPDFE5TvZA6/qdPnvLv77g+ZpA93P/XbmLPG2Zj0vcimE5kulxbHp15mEqfJGey6LnnMuTPYDwpuy1l89DiXhWrDdLwM2wDpUcFwDNforP5suq1vY1dn5TGGOQDUn/Jo92i9f7C5LNQcpjuBe0SduQDVEJB1zupd2WE6rnLufd+1az4GMIdjlACPdb/mVnOxznUrc1m2yNkKZ/W2VzO2t9sU1IvrMwwrWMHEhPXM9UoAc6VoPWuZuP5ph7BZdn0YNxPhUXPX1WQ0SDklRlZ4UI9x6shnX7rqdiEnCmCuTIb5ENTzuS08IqhTmjY19VgE5c1qWIQeK0cBrzyqMLFeN+2skEdumtmZre7YEfNbAczhJPida7Z3B4BNnSxoXEFXCgPYwKWULRRsBnVKWanbYb1Zpyw2qzF6aFwFNwYeETg9M2Qnt7PVbMQvxjDH9Js+g0t0j651f9eKr1Da+ouxG8892uKdLSsrMSkmZXV9ZiWPOWaaI421wMa1HrsIak1ZGQqQyCuRMgyOXsxsou1rY6uxL+0dDVIYzdmaKE4GN2PuyDJcYREcyawpjAbvyDZxPbatbewqYwuBFUwc2cJkS7nYtrOxk00/3oM5mNWxoGyVm2Ds6JRy6bzSJR492iH7xXGoZins9ovY3KHSojwU28p8fCfmYi2IrcY77pT9MSydLnHusd9urubZrDsxd/Zs++uHBAwF+5+xnvA2zNWj333lI3liLkXMMS7FawAcgvgeu1YUc2+4mYTP6W84Fd1SzNFWSRjkgJgLMlJlaAfEHG2VhEEOiLkgI1WGdkDM0VZJGOSAmAsyUmVoB8QcbZWEQQ6IuSAjVYZ2QMzRVkkY5ICYCzJSZWgHxBxtlYRBDoi5ICNVhnZAzNFWSRjkgJgLMlJlaAfEHG2VhEEOiLkgI1WGdkDM0VZJGOSAmAsyUmVoB8QcbZWEQQ6IuSAjVYZ2QMzRVkkY5ICYCzJSZWgHxBxtlYRBDoi5ICNVhnZAzNFWSRjkgJgLMlJlaAfEHG2VhEEOiLkgI1WGdkDM0VZJGOSAmAsyUmVoB8QcbZWEQQ6IuSAjVYZ24B8iOSrziAiThwAAAABJRU5ErkJggg==)"
      ],
      "metadata": {
        "id": "RwSTlBESsh__"
      }
    },
    {
      "cell_type": "code",
      "execution_count": 4,
      "metadata": {
        "colab": {
          "base_uri": "https://localhost:8080/"
        },
        "id": "D_2ekltVsfha",
        "outputId": "74f22d43-da69-45c4-cf76-942c4ecdc417"
      },
      "outputs": [
        {
          "output_type": "stream",
          "name": "stdout",
          "text": [
            "El límite es:  -96/5\n"
          ]
        }
      ],
      "source": [
        "from sympy import symbols, limit, sqrt\n",
        "x  = symbols('x')\n",
        "fx =(x**2-4)/(sqrt(x+7)-3*sqrt(x+2)/2)\n",
        "limf = limit(fx, x, 2)\n",
        "print(\"El límite es: \", limf)"
      ]
    }
  ]
}