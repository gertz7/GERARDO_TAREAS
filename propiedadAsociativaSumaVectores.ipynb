{
  "nbformat": 4,
  "nbformat_minor": 0,
  "metadata": {
    "colab": {
      "provenance": [],
      "authorship_tag": "ABX9TyPp4UwzG2Vpw0xMhmnxsP/r",
      "include_colab_link": true
    },
    "kernelspec": {
      "name": "python3",
      "display_name": "Python 3"
    },
    "language_info": {
      "name": "python"
    }
  },
  "cells": [
    {
      "cell_type": "markdown",
      "metadata": {
        "id": "view-in-github",
        "colab_type": "text"
      },
      "source": [
        "<a href=\"https://colab.research.google.com/github/gertz7/GERARDO_TAREAS/blob/main/propiedadAsociativaSumaVectores.ipynb\" target=\"_parent\"><img src=\"https://colab.research.google.com/assets/colab-badge.svg\" alt=\"Open In Colab\"/></a>"
      ]
    },
    {
      "cell_type": "code",
      "execution_count": 2,
      "metadata": {
        "id": "A27FX3WD-R4B",
        "colab": {
          "base_uri": "https://localhost:8080/"
        },
        "outputId": "e30b85a1-086f-48ae-c3c9-2d5d4de685e6"
      },
      "outputs": [
        {
          "output_type": "stream",
          "name": "stdout",
          "text": [
            "ingrese el primer vector A:\n",
            "ingrese el valor 1: -25\n",
            "ingrese el valor 2: -10\n",
            "\n",
            "ingrese el segundo vector B:\n",
            "ingrese el valor 1: 40\n",
            "ingrese el valor 2: 25\n",
            "\n",
            "ingrese el tercer vector C:\n",
            "ingrese el valor 1: 30\n",
            "ingrese el valor 2: -10\n",
            "\n",
            "Primer vector ingresado, VECTOR A:  [-25.0, -10.0]\n",
            "\n",
            "Segundo vector ingresado, VECTOR B:  [40.0, 25.0]\n",
            "\n",
            "Tercer vector ingresado, VECTOR C:  [30.0, -10.0]\n",
            "---------------------------------------------------------------------------------\n",
            "\n",
            "\n",
            "Resultado de la suma de los  vectores (A + B) + C :   [45.0, 5.0]\n",
            "\n",
            "Resultado de la suma de los  vectores (A + C) + B :   [45.0, 5.0]\n",
            "\n",
            "Resultado de la suma de los  vectores (B + C) + A :   [45.0, 5.0]\n",
            "---------------------------------------------------------------------------------\n",
            "\n",
            "Se cumple la PROPIEDAD ASOCIATIVA EN LA SUMA DE VECTORES\n"
          ]
        }
      ],
      "source": [
        "#Propiedad asociativa de la suma de  tres  vectores\n",
        "\n",
        "import matplotlib.pyplot as plt\n",
        "\n",
        "\n",
        "def ingresar_vector(n):\n",
        "    vector = [float(input(f\"ingrese el valor {i+1}: \"))\n",
        "    for i in range(n)]\n",
        "    return vector\n",
        "\n",
        "def sumar_de_vectores(vector1, vector2):\n",
        "    return [vector1 + vector2 for vector1, vector2 in zip (vector1, vector2)]\n",
        "\n",
        "print (\"ingrese el primer vector A:\")\n",
        "vectorA = ingresar_vector(2)\n",
        "\n",
        "print (\"\\ningrese el segundo vector B:\")\n",
        "vectorB = ingresar_vector(2)\n",
        "\n",
        "print (\"\\ningrese el tercer vector C:\")\n",
        "vectorC = ingresar_vector(2)\n",
        "\n",
        "# Sumar (A+B)\n",
        "\n",
        "vector_resultado_A_B=sumar_de_vectores(vectorA, vectorB)\n",
        "\n",
        "# Sumar (A+B)+C\n",
        "\n",
        "vector_resultado_A_B_C= sumar_de_vectores(vector_resultado_A_B,vectorC)\n",
        "\n",
        "# Sumar vectores  (A + C)\n",
        "\n",
        "vector_resultado_A_C=sumar_de_vectores(vectorA, vectorC)\n",
        "\n",
        "# Sumar (A + C) + B\n",
        "\n",
        "vector_resultado_A_C_B= sumar_de_vectores(vector_resultado_A_C,vectorB)\n",
        "\n",
        "# Sumar (B + C)\n",
        "\n",
        "vector_resultado_B_C=sumar_de_vectores(vectorB, vectorC)\n",
        "\n",
        "# Sumar (B  + C ) + A\n",
        "\n",
        "vector_resultado_B_C_A= sumar_de_vectores(vector_resultado_B_C,vectorA)\n",
        "\n",
        "\n",
        "print (\"\\nPrimer vector ingresado, VECTOR A: \", vectorA)\n",
        "print (\"\\nSegundo vector ingresado, VECTOR B: \", vectorB)\n",
        "print (\"\\nTercer vector ingresado, VECTOR C: \", vectorC)\n",
        "print(\"---------------------------------------------------------------------------------\\n\")\n",
        "print (\"\\nResultado de la suma de los  vectores (A + B) + C :  \", vector_resultado_A_B_C)\n",
        "print (\"\\nResultado de la suma de los  vectores (A + C) + B :  \", vector_resultado_A_C_B)\n",
        "print (\"\\nResultado de la suma de los  vectores (B + C) + A :  \", vector_resultado_B_C_A)\n",
        "print(\"---------------------------------------------------------------------------------\\n\")\n",
        "print(\"Se cumple la PROPIEDAD ASOCIATIVA EN LA SUMA DE VECTORES\")\n"
      ]
    }
  ]
}